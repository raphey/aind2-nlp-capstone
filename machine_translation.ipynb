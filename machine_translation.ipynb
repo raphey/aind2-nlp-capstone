{
 "cells": [
  {
   "cell_type": "markdown",
   "metadata": {
    "collapsed": true
   },
   "source": [
    "# Artificial Intelligence Nanodegree\n",
    "## Machine Translation Project\n",
    "In this notebook, sections that end with **'(IMPLEMENTATION)'** in the header indicate that the following blocks of code will require additional functionality which you must provide. Please be sure to read the instructions carefully!\n",
    "\n",
    "## Introduction\n",
    "In this notebook, you will build a deep neural network that functions as part of an end-to-end machine translation pipeline. Your completed pipeline will accept English text as input and return the French translation.\n",
    "\n",
    "- **Preprocess** - You'll convert text to sequence of integers.\n",
    "- **Models** Create models which accepts a sequence of integers as input and returns a probability distribution over possible translations. After learning about the basic types of neural networks that are often used for machine translation, you will engage in your own investigations, to design your own model!\n",
    "- **Prediction** Run the model on English text."
   ]
  },
  {
   "cell_type": "code",
   "execution_count": 48,
   "metadata": {},
   "outputs": [
    {
     "name": "stdout",
     "output_type": "stream",
     "text": [
      "The autoreload extension is already loaded. To reload it, use:\n",
      "  %reload_ext autoreload\n"
     ]
    }
   ],
   "source": [
    "%load_ext autoreload\n",
    "%aimport helper, tests\n",
    "%autoreload 1"
   ]
  },
  {
   "cell_type": "code",
   "execution_count": 49,
   "metadata": {},
   "outputs": [],
   "source": [
    "import collections\n",
    "\n",
    "import helper\n",
    "import numpy as np\n",
    "import project_tests as tests\n",
    "\n",
    "from keras.preprocessing.text import Tokenizer\n",
    "from keras.preprocessing.sequence import pad_sequences\n",
    "from keras.models import Model\n",
    "from keras.layers import GRU, Input, Dense, TimeDistributed, Activation, RepeatVector, Bidirectional\n",
    "from keras.layers.embeddings import Embedding\n",
    "from keras.optimizers import Adam\n",
    "from keras.losses import sparse_categorical_crossentropy"
   ]
  },
  {
   "cell_type": "markdown",
   "metadata": {},
   "source": [
    "### Verify access to the GPU\n",
    "The following test applies only if you expect to be using a GPU, e.g., while running in a Udacity Workspace or using an AWS instance with GPU support. Run the next cell, and verify that the device_type is \"GPU\".\n",
    "- If the device is not GPU & you are running from a Udacity Workspace, then save your workspace with the icon at the top, then click \"enable\" at the bottom of the workspace.\n",
    "- If the device is not GPU & you are running from an AWS instance, then refer to the cloud computing instructions in the classroom to verify your setup steps."
   ]
  },
  {
   "cell_type": "code",
   "execution_count": 50,
   "metadata": {},
   "outputs": [
    {
     "name": "stdout",
     "output_type": "stream",
     "text": [
      "[name: \"/cpu:0\"\n",
      "device_type: \"CPU\"\n",
      "memory_limit: 268435456\n",
      "locality {\n",
      "}\n",
      "incarnation: 17547697916872889946\n",
      "]\n"
     ]
    }
   ],
   "source": [
    "from tensorflow.python.client import device_lib\n",
    "print(device_lib.list_local_devices())"
   ]
  },
  {
   "cell_type": "markdown",
   "metadata": {},
   "source": [
    "## Dataset\n",
    "We begin by investigating the dataset that will be used to train and evaluate your pipeline.  The most common datasets used for machine translation are from [WMT](http://www.statmt.org/).  However, that will take a long time to train a neural network on.  We'll be using a dataset we created for this project that contains a small vocabulary.  You'll be able to train your model in a reasonable time with this dataset.\n",
    "### Load Data\n",
    "The data is located in `data/small_vocab_en` and `data/small_vocab_fr`. The `small_vocab_en` file contains English sentences with their French translations in the `small_vocab_fr` file. Load the English and French data from these files from running the cell below."
   ]
  },
  {
   "cell_type": "code",
   "execution_count": 51,
   "metadata": {},
   "outputs": [
    {
     "name": "stdout",
     "output_type": "stream",
     "text": [
      "Dataset Loaded\n"
     ]
    }
   ],
   "source": [
    "# Load English data\n",
    "english_sentences = helper.load_data('data/small_vocab_en')\n",
    "# Load French data\n",
    "french_sentences = helper.load_data('data/small_vocab_fr')\n",
    "\n",
    "print('Dataset Loaded')"
   ]
  },
  {
   "cell_type": "markdown",
   "metadata": {},
   "source": [
    "### Files\n",
    "Each line in `small_vocab_en` contains an English sentence with the respective translation in each line of `small_vocab_fr`.  View the first two lines from each file."
   ]
  },
  {
   "cell_type": "code",
   "execution_count": 52,
   "metadata": {},
   "outputs": [
    {
     "name": "stdout",
     "output_type": "stream",
     "text": [
      "small_vocab_en Line 1:  new jersey is sometimes quiet during autumn , and it is snowy in april .\n",
      "small_vocab_fr Line 1:  new jersey est parfois calme pendant l' automne , et il est neigeux en avril .\n",
      "small_vocab_en Line 2:  the united states is usually chilly during july , and it is usually freezing in november .\n",
      "small_vocab_fr Line 2:  les états-unis est généralement froid en juillet , et il gèle habituellement en novembre .\n"
     ]
    }
   ],
   "source": [
    "for sample_i in range(2):\n",
    "    print('small_vocab_en Line {}:  {}'.format(sample_i + 1, english_sentences[sample_i]))\n",
    "    print('small_vocab_fr Line {}:  {}'.format(sample_i + 1, french_sentences[sample_i]))"
   ]
  },
  {
   "cell_type": "markdown",
   "metadata": {},
   "source": [
    "From looking at the sentences, you can see they have been preprocessed already.  The puncuations have been delimited using spaces. All the text have been converted to lowercase.  This should save you some time, but the text requires more preprocessing.\n",
    "### Vocabulary\n",
    "The complexity of the problem is determined by the complexity of the vocabulary.  A more complex vocabulary is a more complex problem.  Let's look at the complexity of the dataset we'll be working with."
   ]
  },
  {
   "cell_type": "code",
   "execution_count": 53,
   "metadata": {},
   "outputs": [
    {
     "name": "stdout",
     "output_type": "stream",
     "text": [
      "1823250 English words.\n",
      "227 unique English words.\n",
      "10 Most common words in the English dataset:\n",
      "\"is\" \",\" \".\" \"in\" \"it\" \"during\" \"the\" \"but\" \"and\" \"sometimes\"\n",
      "\n",
      "1961295 French words.\n",
      "355 unique French words.\n",
      "10 Most common words in the French dataset:\n",
      "\"est\" \".\" \",\" \"en\" \"il\" \"les\" \"mais\" \"et\" \"la\" \"parfois\"\n"
     ]
    }
   ],
   "source": [
    "english_words_counter = collections.Counter([word for sentence in english_sentences for word in sentence.split()])\n",
    "french_words_counter = collections.Counter([word for sentence in french_sentences for word in sentence.split()])\n",
    "\n",
    "print('{} English words.'.format(len([word for sentence in english_sentences for word in sentence.split()])))\n",
    "print('{} unique English words.'.format(len(english_words_counter)))\n",
    "print('10 Most common words in the English dataset:')\n",
    "print('\"' + '\" \"'.join(list(zip(*english_words_counter.most_common(10)))[0]) + '\"')\n",
    "print()\n",
    "print('{} French words.'.format(len([word for sentence in french_sentences for word in sentence.split()])))\n",
    "print('{} unique French words.'.format(len(french_words_counter)))\n",
    "print('10 Most common words in the French dataset:')\n",
    "print('\"' + '\" \"'.join(list(zip(*french_words_counter.most_common(10)))[0]) + '\"')"
   ]
  },
  {
   "cell_type": "markdown",
   "metadata": {},
   "source": [
    "For comparison, _Alice's Adventures in Wonderland_ contains 2,766 unique words of a total of 15,500 words.\n",
    "## Preprocess\n",
    "For this project, you won't use text data as input to your model. Instead, you'll convert the text into sequences of integers using the following preprocess methods:\n",
    "1. Tokenize the words into ids\n",
    "2. Add padding to make all the sequences the same length.\n",
    "\n",
    "Time to start preprocessing the data...\n",
    "### Tokenize (IMPLEMENTATION)\n",
    "For a neural network to predict on text data, it first has to be turned into data it can understand. Text data like \"dog\" is a sequence of ASCII character encodings.  Since a neural network is a series of multiplication and addition operations, the input data needs to be number(s).\n",
    "\n",
    "We can turn each character into a number or each word into a number.  These are called character and word ids, respectively.  Character ids are used for character level models that generate text predictions for each character.  A word level model uses word ids that generate text predictions for each word.  Word level models tend to learn better, since they are lower in complexity, so we'll use those.\n",
    "\n",
    "Turn each sentence into a sequence of words ids using Keras's [`Tokenizer`](https://keras.io/preprocessing/text/#tokenizer) function. Use this function to tokenize `english_sentences` and `french_sentences` in the cell below.\n",
    "\n",
    "Running the cell will run `tokenize` on sample data and show output for debugging."
   ]
  },
  {
   "cell_type": "code",
   "execution_count": 54,
   "metadata": {},
   "outputs": [
    {
     "name": "stdout",
     "output_type": "stream",
     "text": [
      "{'won': 16, 'fox': 5, 'lexicography': 15, 'the': 1, 'my': 12, 'sentence': 21, 'lazy': 8, 'jove': 11, 'jumps': 6, 'prize': 17, 'a': 3, 'brown': 4, 'quick': 2, 'short': 20, 'is': 19, 'study': 13, 'dog': 9, 'over': 7, 'by': 10, 'this': 18, 'of': 14}\n",
      "\n",
      "Sequence 1 in x\n",
      "  Input:  The quick brown fox jumps over the lazy dog .\n",
      "  Output: [1, 2, 4, 5, 6, 7, 1, 8, 9]\n",
      "Sequence 2 in x\n",
      "  Input:  By Jove , my quick study of lexicography won a prize .\n",
      "  Output: [10, 11, 12, 2, 13, 14, 15, 16, 3, 17]\n",
      "Sequence 3 in x\n",
      "  Input:  This is a short sentence .\n",
      "  Output: [18, 19, 3, 20, 21]\n"
     ]
    }
   ],
   "source": [
    "def tokenize(x):\n",
    "    \"\"\"\n",
    "    Tokenize x\n",
    "    :param x: List of sentences/strings to be tokenized\n",
    "    :return: Tuple of (tokenized x data, tokenizer used to tokenize x)\n",
    "    \"\"\"\n",
    "    # TODO: Implement\n",
    "    tokenizer = Tokenizer()\n",
    "    tokenizer.fit_on_texts(x)\n",
    "    return tokenizer.texts_to_sequences(x), tokenizer\n",
    "tests.test_tokenize(tokenize)\n",
    "\n",
    "# Tokenize Example output\n",
    "text_sentences = [\n",
    "    'The quick brown fox jumps over the lazy dog .',\n",
    "    'By Jove , my quick study of lexicography won a prize .',\n",
    "    'This is a short sentence .']\n",
    "text_tokenized, text_tokenizer = tokenize(text_sentences)\n",
    "print(text_tokenizer.word_index)\n",
    "print()\n",
    "for sample_i, (sent, token_sent) in enumerate(zip(text_sentences, text_tokenized)):\n",
    "    print('Sequence {} in x'.format(sample_i + 1))\n",
    "    print('  Input:  {}'.format(sent))\n",
    "    print('  Output: {}'.format(token_sent))"
   ]
  },
  {
   "cell_type": "markdown",
   "metadata": {},
   "source": [
    "### Padding (IMPLEMENTATION)\n",
    "When batching the sequence of word ids together, each sequence needs to be the same length.  Since sentences are dynamic in length, we can add padding to the end of the sequences to make them the same length.\n",
    "\n",
    "Make sure all the English sequences have the same length and all the French sequences have the same length by adding padding to the **end** of each sequence using Keras's [`pad_sequences`](https://keras.io/preprocessing/sequence/#pad_sequences) function."
   ]
  },
  {
   "cell_type": "code",
   "execution_count": 55,
   "metadata": {},
   "outputs": [
    {
     "name": "stdout",
     "output_type": "stream",
     "text": [
      "Sequence 1 in x\n",
      "  Input:  [1 2 4 5 6 7 1 8 9]\n",
      "  Output: [1. 2. 4. 5. 6. 7. 1. 8. 9. 0.]\n",
      "Sequence 2 in x\n",
      "  Input:  [10 11 12  2 13 14 15 16  3 17]\n",
      "  Output: [10. 11. 12.  2. 13. 14. 15. 16.  3. 17.]\n",
      "Sequence 3 in x\n",
      "  Input:  [18 19  3 20 21]\n",
      "  Output: [18. 19.  3. 20. 21.  0.  0.  0.  0.  0.]\n"
     ]
    }
   ],
   "source": [
    "def pad(x, length=None):\n",
    "    \"\"\"\n",
    "    Pad x\n",
    "    :param x: List of sequences.\n",
    "    :param length: Length to pad the sequence to.  If None, use length of longest sequence in x.\n",
    "    :return: Padded numpy array of sequences\n",
    "    \"\"\"\n",
    "    # TODO: Implement\n",
    "    if length is None:\n",
    "        length = max(len(sentence) for sentence in x)\n",
    "    return np.array([np.concatenate([sentence, np.zeros(length - len(sentence))]) for sentence in x])\n",
    "\n",
    "tests.test_pad(pad)\n",
    "\n",
    "# Pad Tokenized output\n",
    "test_pad = pad(text_tokenized)\n",
    "for sample_i, (token_sent, pad_sent) in enumerate(zip(text_tokenized, test_pad)):\n",
    "    print('Sequence {} in x'.format(sample_i + 1))\n",
    "    print('  Input:  {}'.format(np.array(token_sent)))\n",
    "    print('  Output: {}'.format(pad_sent))"
   ]
  },
  {
   "cell_type": "markdown",
   "metadata": {},
   "source": [
    "### Preprocess Pipeline\n",
    "Your focus for this project is to build neural network architecture, so we won't ask you to create a preprocess pipeline.  Instead, we've provided you with the implementation of the `preprocess` function."
   ]
  },
  {
   "cell_type": "code",
   "execution_count": 56,
   "metadata": {},
   "outputs": [
    {
     "name": "stdout",
     "output_type": "stream",
     "text": [
      "Data Preprocessed\n",
      "Max English sentence length: 15\n",
      "Max French sentence length: 21\n",
      "English vocabulary size: 200\n",
      "French vocabulary size: 345\n"
     ]
    }
   ],
   "source": [
    "def preprocess(x, y):\n",
    "    \"\"\"\n",
    "    Preprocess x and y\n",
    "    :param x: Feature List of sentences\n",
    "    :param y: Label List of sentences\n",
    "    :return: Tuple of (Preprocessed x, Preprocessed y, x tokenizer, y tokenizer)\n",
    "    \"\"\"\n",
    "    preprocess_x, x_tk = tokenize(x)\n",
    "    preprocess_y, y_tk = tokenize(y)\n",
    "\n",
    "    preprocess_x = pad(preprocess_x)\n",
    "    preprocess_y = pad(preprocess_y)\n",
    "\n",
    "    # Keras's sparse_categorical_crossentropy function requires the labels to be in 3 dimensions\n",
    "    preprocess_y = preprocess_y.reshape(*preprocess_y.shape, 1)\n",
    "\n",
    "    return preprocess_x, preprocess_y, x_tk, y_tk\n",
    "\n",
    "preproc_english_sentences, preproc_french_sentences, english_tokenizer, french_tokenizer =\\\n",
    "    preprocess(english_sentences, french_sentences)\n",
    "    \n",
    "max_english_sequence_length = preproc_english_sentences.shape[1]\n",
    "max_french_sequence_length = preproc_french_sentences.shape[1]\n",
    "english_vocab_size = len(english_tokenizer.word_index) + 1\n",
    "french_vocab_size = len(french_tokenizer.word_index) + 1\n",
    "\n",
    "print('Data Preprocessed')\n",
    "print(\"Max English sentence length:\", max_english_sequence_length)\n",
    "print(\"Max French sentence length:\", max_french_sequence_length)\n",
    "print(\"English vocabulary size:\", english_vocab_size)\n",
    "print(\"French vocabulary size:\", french_vocab_size)"
   ]
  },
  {
   "cell_type": "markdown",
   "metadata": {},
   "source": [
    "## Models\n",
    "In this section, you will experiment with various neural network architectures.\n",
    "You will begin by training four relatively simple architectures.\n",
    "- Model 1 is a simple RNN\n",
    "- Model 2 is a RNN with Embedding\n",
    "- Model 3 is a Bidirectional RNN\n",
    "- Model 4 is an optional Encoder-Decoder RNN\n",
    "\n",
    "After experimenting with the four simple architectures, you will construct a deeper architecture that is designed to outperform all four models.\n",
    "### Ids Back to Text\n",
    "The neural network will be translating the input to words ids, which isn't the final form we want.  We want the French translation.  The function `logits_to_text` will bridge the gab between the logits from the neural network to the French translation.  You'll be using this function to better understand the output of the neural network."
   ]
  },
  {
   "cell_type": "code",
   "execution_count": 57,
   "metadata": {},
   "outputs": [
    {
     "name": "stdout",
     "output_type": "stream",
     "text": [
      "`logits_to_text` function loaded.\n",
      "`tokens_to_text` function loaded.\n"
     ]
    }
   ],
   "source": [
    "def logits_to_text(logits, tokenizer):\n",
    "    \"\"\"\n",
    "    Turn logits from a neural network into text using the tokenizer\n",
    "    :param logits: Logits from a neural network\n",
    "    :param tokenizer: Keras Tokenizer fit on the labels\n",
    "    :return: String that represents the text of the logits\n",
    "    \"\"\"\n",
    "    index_to_words = {id: word for word, id in tokenizer.word_index.items()}\n",
    "    index_to_words[0] = '_'\n",
    "    return ' '.join([index_to_words[prediction] for prediction in np.argmax(logits, 1)])\n",
    "\n",
    "print('`logits_to_text` function loaded.')\n",
    "\n",
    "def tokens_to_text(tokens, tokenizer):\n",
    "    \"\"\"\n",
    "    Turn tokens being fed into neural network into text using the tokenizer\n",
    "    (redundant with original sentences, but nice to have this in the same format as logits_to_text)\n",
    "    :param tokens: Tokens for words being fed into a neural network\n",
    "    :param tokenizer: Keras Tokenizer fit on the labels\n",
    "    :return: String that represents the text of the tokens\n",
    "    \"\"\"\n",
    "    index_to_words = {id: word for word, id in tokenizer.word_index.items()}\n",
    "    index_to_words[0] = '_'\n",
    "    return ' '.join([index_to_words[token] for token in list(tokens)])\n",
    "\n",
    "print('`tokens_to_text` function loaded.')"
   ]
  },
  {
   "cell_type": "markdown",
   "metadata": {},
   "source": [
    "### Model 1: RNN (IMPLEMENTATION)\n",
    "![RNN](images/rnn.png)\n",
    "A basic RNN model is a good baseline for sequence data.  In this model, you'll build a RNN that translates English to French."
   ]
  },
  {
   "cell_type": "code",
   "execution_count": 58,
   "metadata": {},
   "outputs": [
    {
     "name": "stdout",
     "output_type": "stream",
     "text": [
      "(137861, 21, 1)\n",
      "(137861, 21, 200)\n",
      "Train on 110288 samples, validate on 27573 samples\n",
      "Epoch 1/1\n",
      "110288/110288 [==============================] - 165s 1ms/step - loss: 4.0625 - acc: 0.4272 - val_loss: 2.4698 - val_acc: 0.5218\n"
     ]
    },
    {
     "data": {
      "text/plain": [
       "<keras.callbacks.History at 0x13becd7b8>"
      ]
     },
     "execution_count": 58,
     "metadata": {},
     "output_type": "execute_result"
    }
   ],
   "source": [
    "from keras.models import Sequential\n",
    "from keras.layers import SimpleRNN\n",
    "from keras.utils import to_categorical\n",
    "\n",
    "def simple_model(input_shape, output_sequence_length, english_vocab_size, french_vocab_size):\n",
    "    \"\"\"\n",
    "    Build and train a basic RNN on x and y\n",
    "    :param input_shape: Tuple of input shape\n",
    "    :param output_sequence_length: Length of output sequence\n",
    "    :param english_vocab_size: Number of unique English words in the dataset\n",
    "    :param french_vocab_size: Number of unique French words in the dataset\n",
    "    :return: Keras model built, but not trained\n",
    "    \"\"\"\n",
    "    \n",
    "    learning_rate = 0.001\n",
    "    \n",
    "    # TODO: Build the layers\n",
    "    model = Sequential()\n",
    "    model.add(GRU(input_shape=input_shape[1:],\n",
    "                  units=french_vocab_size,\n",
    "                  return_sequences=True))\n",
    "    model.compile(loss=sparse_categorical_crossentropy,\n",
    "                  optimizer=Adam(learning_rate),\n",
    "                  metrics=['accuracy'])\n",
    "    return model\n",
    "\n",
    "tests.test_simple_model(simple_model)\n",
    "\n",
    "# Reshaping the input to work with a basic RNN\n",
    "tmp_x = pad(preproc_english_sentences, max_french_sequence_length)\n",
    "tmp_x = tmp_x.reshape((-1, preproc_french_sentences.shape[-2], 1))\n",
    "print(tmp_x.shape)\n",
    "\n",
    "# One-hot encoding, since otherwise we're implicitly assigning semantic closeness to English words with nearby indices\n",
    "one_hot_tmp_x = to_categorical(tmp_x)\n",
    "\n",
    "print(one_hot_tmp_x.shape)\n",
    "\n",
    "# Train the neural network\n",
    "simple_rnn_model = simple_model(\n",
    "    one_hot_tmp_x.shape,\n",
    "    max_french_sequence_length,\n",
    "    english_vocab_size,\n",
    "    french_vocab_size)\n",
    "simple_rnn_model.fit(one_hot_tmp_x, preproc_french_sentences, batch_size=1024, epochs=1, validation_split=0.2)\n"
   ]
  },
  {
   "cell_type": "code",
   "execution_count": 59,
   "metadata": {},
   "outputs": [
    {
     "name": "stdout",
     "output_type": "stream",
     "text": [
      "English sentence:\n",
      "new jersey is sometimes quiet during autumn and it is snowy in april _ _ _ _ _ _ _ _\n",
      "French translation:\n",
      "new généralement _ est est en il il est il il en en _ _ _ _ _ _ _ _\n",
      "-----------------\n",
      "English sentence:\n",
      "the united states is usually chilly during july and it is usually freezing in november _ _ _ _ _ _\n",
      "French translation:\n",
      "les états est est est est en en est est est est est est en novembre _ _ _ _ _\n",
      "-----------------\n",
      "English sentence:\n",
      "california is usually quiet during march and it is usually hot in june _ _ _ _ _ _ _ _\n",
      "French translation:\n",
      "californie mais est est en en en et et est est est en en _ _ _ _ _ _ _\n",
      "-----------------\n",
      "English sentence:\n",
      "the united states is sometimes mild during june and it is cold in september _ _ _ _ _ _ _\n",
      "French translation:\n",
      "les états est est est est en en est est est est est en en _ _ _ _ _ _\n",
      "-----------------\n",
      "English sentence:\n",
      "your least liked fruit is the grape but my least liked is the apple _ _ _ _ _ _ _\n",
      "French translation:\n",
      "fruit préféré est est _ est est mais le préféré est _ _ _ _ _ _ _ _ _ _\n",
      "-----------------\n",
      "English sentence:\n",
      "his favorite fruit is the orange but my favorite is the grape _ _ _ _ _ _ _ _ _\n",
      "French translation:\n",
      "je est est mais est est est le est _ _ est _ _ _ _ _ _ _ _ _\n",
      "-----------------\n",
      "English sentence:\n",
      "paris is relaxing during december but it is usually chilly in july _ _ _ _ _ _ _ _ _\n",
      "French translation:\n",
      "mais mais jamais en en il mais mais est est en en en _ _ _ _ _ _ _ _\n",
      "-----------------\n",
      "English sentence:\n",
      "new jersey is busy during spring and it is never hot in march _ _ _ _ _ _ _ _\n",
      "French translation:\n",
      "new généralement _ en en il il est il est est est en en _ _ _ _ _ _ _\n",
      "-----------------\n",
      "English sentence:\n",
      "our least liked fruit is the lemon but my least liked is the grape _ _ _ _ _ _ _\n",
      "French translation:\n",
      "jamais est est est _ est _ le le préféré _ _ _ aimé _ _ _ _ _ _ _\n",
      "-----------------\n",
      "English sentence:\n",
      "the united states is sometimes busy during january and it is sometimes warm in november _ _ _ _ _ _\n",
      "French translation:\n",
      "les états est est est est en en en est et est est est en novembre _ _ _ _ _\n",
      "-----------------\n",
      "English sentence:\n",
      "the lime is her least liked fruit but the banana is my least liked _ _ _ _ _ _ _\n",
      "French translation:\n",
      "les est mais le est est est la mais mais mais _ préféré _ _ _ _ _ _ _ _\n",
      "-----------------\n",
      "English sentence:\n",
      "he saw a old yellow truck _ _ _ _ _ _ _ _ _ _ _ _ _ _ _\n",
      "French translation:\n",
      "il était conduit cette voiture _ _ _ _ _ _ _ _ _ _ _ _ _ _ _ _\n",
      "-----------------\n",
      "English sentence:\n",
      "india is rainy during june and it is sometimes warm in november _ _ _ _ _ _ _ _ _\n",
      "French translation:\n",
      "l' l' _ en en est est est est est est en novembre _ _ _ _ _ _ _ _\n",
      "-----------------\n",
      "English sentence:\n",
      "that cat was my most loved animal _ _ _ _ _ _ _ _ _ _ _ _ _ _\n",
      "French translation:\n",
      "voiture est son _ _ le aimé _ _ _ _ _ _ _ _ _ _ _ _ _ _\n",
      "-----------------\n",
      "English sentence:\n",
      "he dislikes grapefruit limes and lemons _ _ _ _ _ _ _ _ _ _ _ _ _ _ _\n",
      "French translation:\n",
      "il pas les pamplemousse pamplemousse les les _ _ _ _ _ _ _ _ _ _ _ _ _ _\n",
      "-----------------\n",
      "English sentence:\n",
      "her least liked fruit is the lemon but his least liked is the grapefruit _ _ _ _ _ _ _\n",
      "French translation:\n",
      "moins préféré est est _ est _ le le est est _ _ est pamplemousse _ _ _ _ _ _\n",
      "-----------------\n",
      "English sentence:\n",
      "california is never cold during february but it is sometimes freezing in june _ _ _ _ _ _ _ _\n",
      "French translation:\n",
      "californie mais est est en en il mais mais est est est en _ _ _ _ _ _ _ _\n",
      "-----------------\n",
      "English sentence:\n",
      "china is usually pleasant during autumn and it is usually quiet in october _ _ _ _ _ _ _ _\n",
      "French translation:\n",
      "en mais est en en en il est il est est en en en _ _ _ _ _ _ _\n",
      "-----------------\n",
      "English sentence:\n",
      "paris is never freezing during november but it is wonderful in october _ _ _ _ _ _ _ _ _\n",
      "French translation:\n",
      "mais mais est jamais en en novembre novembre mais en en en en _ _ _ _ _ _ _ _\n",
      "-----------------\n",
      "English sentence:\n",
      "the united states is never rainy during january but it is sometimes mild in october _ _ _ _ _ _\n",
      "French translation:\n",
      "les états est est est en en en il mais mais est est est en en _ _ _ _ _\n",
      "-----------------\n"
     ]
    }
   ],
   "source": [
    "# Print prediction(s) (One at a time slows things, but that's ok.)\n",
    "for i in range(20):\n",
    "    print(\"English sentence:\")\n",
    "    print(logits_to_text(one_hot_tmp_x[i], english_tokenizer))\n",
    "    pred_logits = simple_rnn_model.predict(one_hot_tmp_x[i:i + 1])[0]\n",
    "    print(\"French translation:\")\n",
    "    print(logits_to_text(pred_logits, french_tokenizer))\n",
    "    print(\"-----------------\")"
   ]
  },
  {
   "cell_type": "markdown",
   "metadata": {},
   "source": [
    "### Model 2: Embedding (IMPLEMENTATION)\n",
    "![RNN](images/embedding.png)\n",
    "You've turned the words into ids, but there's a better representation of a word.  This is called word embeddings.  An embedding is a vector representation of the word that is close to similar words in n-dimensional space, where the n represents the size of the embedding vectors.\n",
    "\n",
    "In this model, you'll create a RNN model using embedding."
   ]
  },
  {
   "cell_type": "code",
   "execution_count": 73,
   "metadata": {},
   "outputs": [
    {
     "name": "stdout",
     "output_type": "stream",
     "text": [
      "(137861, 21)\n",
      "Train on 110288 samples, validate on 27573 samples\n",
      "Epoch 1/1\n",
      "110288/110288 [==============================] - 41s 372us/step - loss: 3.1265 - acc: 0.4611 - val_loss: 1.9602 - val_acc: 0.6067\n"
     ]
    },
    {
     "data": {
      "text/plain": [
       "<keras.callbacks.History at 0x148288780>"
      ]
     },
     "execution_count": 73,
     "metadata": {},
     "output_type": "execute_result"
    }
   ],
   "source": [
    "def embed_model(input_shape, output_sequence_length, english_vocab_size, french_vocab_size):\n",
    "    \"\"\"\n",
    "    Build and train a RNN model using word embedding on x and y\n",
    "    :param input_shape: Tuple of input shape\n",
    "    :param output_sequence_length: Length of output sequence\n",
    "    :param english_vocab_size: Number of unique English words in the dataset\n",
    "    :param french_vocab_size: Number of unique French words in the dataset\n",
    "    :return: Keras model built, but not trained\n",
    "    \"\"\"\n",
    "    # TODO: Implement\n",
    "    learning_rate = 0.001\n",
    "    english_embedding_size = 64\n",
    "    french_embedding_size = 64\n",
    "    \n",
    "    # TODO: Build the layers\n",
    "    model = Sequential()\n",
    "    \n",
    "    # Embedding english input\n",
    "    model.add(Embedding(english_vocab_size, english_embedding_size, input_length=input_shape[1]))\n",
    "    \n",
    "    # RNN layer\n",
    "    model.add(GRU(units=french_embedding_size, return_sequences=True))\n",
    "    \n",
    "    # Unembedding layer (just a fully connected layer with the proper dimensions)\n",
    "    model.add(Dense(french_vocab_size, input_shape=(french_embedding_size,)))\n",
    "    \n",
    "    model.compile(loss=sparse_categorical_crossentropy,\n",
    "                  optimizer=Adam(learning_rate),\n",
    "                  metrics=['accuracy'])\n",
    "    return model\n",
    "tests.test_embed_model(embed_model)\n",
    "\n",
    "\n",
    "# Reshaping the input to work with the embedding RNN\n",
    "tmp_x = pad(preproc_english_sentences, max_french_sequence_length)\n",
    "tmp_x = tmp_x.reshape((-1, preproc_french_sentences.shape[-2]))\n",
    "print(tmp_x.shape)\n",
    "\n",
    "# Train the neural network\n",
    "embed_rnn_model = embed_model(\n",
    "    tmp_x.shape,\n",
    "    max_french_sequence_length,\n",
    "    english_vocab_size,\n",
    "    french_vocab_size)\n",
    "embed_rnn_model.fit(tmp_x, preproc_french_sentences, batch_size=1024, epochs=1, validation_split=0.2)\n"
   ]
  },
  {
   "cell_type": "code",
   "execution_count": 74,
   "metadata": {},
   "outputs": [
    {
     "name": "stdout",
     "output_type": "stream",
     "text": [
      "English sentence:\n",
      "new jersey is sometimes quiet during autumn and it is snowy in april _ _ _ _ _ _ _ _\n",
      "French translation:\n",
      "_ jersey est est est en l' et il est est parfois humide _ _ _ _ _ _ _ _\n",
      "-----------------\n",
      "English sentence:\n",
      "the united states is usually chilly during july and it is usually freezing in november _ _ _ _ _ _\n",
      "French translation:\n",
      "le états _ est généralement froid en en et il est est est en en _ _ _ _ _ _\n",
      "-----------------\n",
      "English sentence:\n",
      "california is usually quiet during march and it is usually hot in june _ _ _ _ _ _ _ _\n",
      "French translation:\n",
      "californie est généralement calme en en et il est est chaud parfois juin _ _ _ _ _ _ _ _\n",
      "-----------------\n",
      "English sentence:\n",
      "the united states is sometimes mild during june and it is cold in september _ _ _ _ _ _ _\n",
      "French translation:\n",
      "le états _ est est doux en juin et et est parfois parfois septembre _ _ _ _ _ _ _\n",
      "-----------------\n",
      "English sentence:\n",
      "your least liked fruit is the grape but my least liked is the apple _ _ _ _ _ _ _\n",
      "French translation:\n",
      "votre fruit aimé aimé est est raisin mais _ moins aimé est est pomme _ _ _ _ _ _ _\n",
      "-----------------\n",
      "English sentence:\n",
      "his favorite fruit is the orange but my favorite is the grape _ _ _ _ _ _ _ _ _\n",
      "French translation:\n",
      "son _ _ est est est mais mon préféré est est raisin _ _ _ _ _ _ _ _ _\n",
      "-----------------\n",
      "English sentence:\n",
      "paris is relaxing during december but it is usually chilly in july _ _ _ _ _ _ _ _ _\n",
      "French translation:\n",
      "_ est est en décembre mais mais est est est parfois _ _ _ _ _ _ _ _ _ _\n",
      "-----------------\n",
      "English sentence:\n",
      "new jersey is busy during spring and it is never hot in march _ _ _ _ _ _ _ _\n",
      "French translation:\n",
      "_ jersey est est humide au au il est jamais humide parfois humide _ _ _ _ _ _ _ _\n",
      "-----------------\n",
      "English sentence:\n",
      "our least liked fruit is the lemon but my least liked is the grape _ _ _ _ _ _ _\n",
      "French translation:\n",
      "_ moins aimé aimé est est citron mais mon moins aimé est est raisin _ _ _ _ _ _ _\n",
      "-----------------\n",
      "English sentence:\n",
      "the united states is sometimes busy during january and it is sometimes warm in november _ _ _ _ _ _\n",
      "French translation:\n",
      "le états _ est est occupé humide janvier et il est est chaud parfois parfois _ _ _ _ _ _\n",
      "-----------------\n",
      "English sentence:\n",
      "the lime is her least liked fruit but the banana is my least liked _ _ _ _ _ _ _\n",
      "French translation:\n",
      "le chaux est son moins aimé aimé mais la banane est _ moins aimé _ _ _ _ _ _ _\n",
      "-----------------\n",
      "English sentence:\n",
      "he saw a old yellow truck _ _ _ _ _ _ _ _ _ _ _ _ _ _ _\n",
      "French translation:\n",
      "il _ un d' _ _ _ _ _ _ _ _ _ _ _ _ _ _ _ _ _\n",
      "-----------------\n",
      "English sentence:\n",
      "india is rainy during june and it is sometimes warm in november _ _ _ _ _ _ _ _ _\n",
      "French translation:\n",
      "l' est pluvieux en juin et il est est chaud parfois parfois _ _ _ _ _ _ _ _ _\n",
      "-----------------\n",
      "English sentence:\n",
      "that cat was my most loved animal _ _ _ _ _ _ _ _ _ _ _ _ _ _\n",
      "French translation:\n",
      "_ _ _ _ _ aimé aimé _ _ _ _ _ _ _ _ _ _ _ _ _ _\n",
      "-----------------\n",
      "English sentence:\n",
      "he dislikes grapefruit limes and lemons _ _ _ _ _ _ _ _ _ _ _ _ _ _ _\n",
      "French translation:\n",
      "il déteste le verts et et _ _ _ _ _ _ _ _ _ _ _ _ _ _ _\n",
      "-----------------\n",
      "English sentence:\n",
      "her least liked fruit is the lemon but his least liked is the grapefruit _ _ _ _ _ _ _\n",
      "French translation:\n",
      "son moins aimé aimé est est citron mais son moins aimé est est est _ _ _ _ _ _ _\n",
      "-----------------\n",
      "English sentence:\n",
      "california is never cold during february but it is sometimes freezing in june _ _ _ _ _ _ _ _\n",
      "French translation:\n",
      "californie est jamais parfois au en mais mais est est humide parfois juin _ _ _ _ _ _ _ _\n",
      "-----------------\n",
      "English sentence:\n",
      "china is usually pleasant during autumn and it is usually quiet in october _ _ _ _ _ _ _ _\n",
      "French translation:\n",
      "chine est généralement agréable en l' et il est généralement calme parfois octobre _ _ _ _ _ _ _ _\n",
      "-----------------\n",
      "English sentence:\n",
      "paris is never freezing during november but it is wonderful in october _ _ _ _ _ _ _ _ _\n",
      "French translation:\n",
      "_ est jamais humide en en mais mais est est parfois octobre _ _ _ _ _ _ _ _ _\n",
      "-----------------\n",
      "English sentence:\n",
      "the united states is never rainy during january but it is sometimes mild in october _ _ _ _ _ _\n",
      "French translation:\n",
      "le états _ est jamais pluvieux en janvier mais mais est est doux parfois octobre _ _ _ _ _ _\n",
      "-----------------\n"
     ]
    }
   ],
   "source": [
    "# Print prediction(s) (One at a time slows things, but that's ok.)\n",
    "for i in range(20):\n",
    "    print(\"English sentence:\")\n",
    "    print(tokens_to_text(tmp_x[i], english_tokenizer))\n",
    "    pred_logits = embed_rnn_model.predict(tmp_x[i:i + 1])[0]\n",
    "    print(\"French translation:\")\n",
    "    print(logits_to_text(pred_logits, french_tokenizer))\n",
    "    print(\"-----------------\")"
   ]
  },
  {
   "cell_type": "markdown",
   "metadata": {},
   "source": [
    "### Model 3: Bidirectional RNNs (IMPLEMENTATION)\n",
    "![RNN](images/bidirectional.png)\n",
    "One restriction of a RNN is that it can't see the future input, only the past.  This is where bidirectional recurrent neural networks come in.  They are able to see the future data."
   ]
  },
  {
   "cell_type": "code",
   "execution_count": 78,
   "metadata": {},
   "outputs": [
    {
     "name": "stdout",
     "output_type": "stream",
     "text": [
      "(137861, 21, 1)\n",
      "(137861, 21, 200)\n",
      "Train on 110288 samples, validate on 27573 samples\n",
      "Epoch 1/1\n",
      "110288/110288 [==============================] - 289s 3ms/step - loss: 3.6472 - acc: 0.4896 - val_loss: 1.8013 - val_acc: 0.6006\n"
     ]
    },
    {
     "data": {
      "text/plain": [
       "<keras.callbacks.History at 0x1504225f8>"
      ]
     },
     "execution_count": 78,
     "metadata": {},
     "output_type": "execute_result"
    }
   ],
   "source": [
    "def bd_model(input_shape, output_sequence_length, english_vocab_size, french_vocab_size):\n",
    "    \"\"\"\n",
    "    Build and train a bidirectional RNN model on x and y\n",
    "    :param input_shape: Tuple of input shape\n",
    "    :param output_sequence_length: Length of output sequence\n",
    "    :param english_vocab_size: Number of unique English words in the dataset\n",
    "    :param french_vocab_size: Number of unique French words in the dataset\n",
    "    :return: Keras model built, but not trained\n",
    "    \"\"\"\n",
    "    # TODO: Implement\n",
    "    \n",
    "    learning_rate = 0.001\n",
    "    \n",
    "    # TODO: Build the layers\n",
    "    model = Sequential()\n",
    "    model.add(Bidirectional(GRU(input_shape=input_shape[1:],\n",
    "                                units=french_vocab_size,\n",
    "                                return_sequences=True),\n",
    "                            merge_mode='ave',\n",
    "                            input_shape=input_shape[1:]))\n",
    "    model.compile(loss=sparse_categorical_crossentropy,\n",
    "                  optimizer=Adam(learning_rate),\n",
    "                  metrics=['accuracy'])\n",
    "    return model\n",
    "\n",
    "\n",
    "tests.test_bd_model(bd_model)\n",
    "\n",
    "# Reshaping the input to work with a basic RNN\n",
    "tmp_x = pad(preproc_english_sentences, max_french_sequence_length)\n",
    "tmp_x = tmp_x.reshape((-1, preproc_french_sentences.shape[-2], 1))\n",
    "print(tmp_x.shape)\n",
    "\n",
    "# One-hot encoding, since otherwise we're implicitly assigning semantic closeness to English words with nearby indices\n",
    "one_hot_tmp_x = to_categorical(tmp_x)\n",
    "\n",
    "print(one_hot_tmp_x.shape)\n",
    "\n",
    "# Train the neural network\n",
    "bd_rnn_model = bd_model(\n",
    "    one_hot_tmp_x.shape,\n",
    "    max_french_sequence_length,\n",
    "    english_vocab_size,\n",
    "    french_vocab_size)\n",
    "bd_rnn_model.fit(one_hot_tmp_x, preproc_french_sentences, batch_size=1024, epochs=1, validation_split=0.2)\n"
   ]
  },
  {
   "cell_type": "code",
   "execution_count": 80,
   "metadata": {},
   "outputs": [
    {
     "name": "stdout",
     "output_type": "stream",
     "text": [
      "English sentence:\n",
      "new jersey is sometimes quiet during autumn and it is snowy in april _ _ _ _ _ _ _ _\n",
      "French translation:\n",
      "new jersey est parfois calme en pendant il il est raisins raisins _ _ _ _ _ _ _ _ _\n",
      "-----------------\n",
      "English sentence:\n",
      "the united states is usually chilly during july and it is usually freezing in november _ _ _ _ _ _\n",
      "French translation:\n",
      "les tour lui est généralement généralement en en juillet il est est il raisins _ _ _ _ _ _ _\n",
      "-----------------\n",
      "English sentence:\n",
      "california is usually quiet during march and it is usually hot in june _ _ _ _ _ _ _ _\n",
      "French translation:\n",
      "californie est généralement calme en mois il il est est est en _ _ _ _ _ _ _ _ _\n",
      "-----------------\n",
      "English sentence:\n",
      "the united states is sometimes mild during june and it is cold in september _ _ _ _ _ _ _\n",
      "French translation:\n",
      "les gelés temps est parfois doux en il il il est est raisins en _ _ _ _ _ _ _\n",
      "-----------------\n",
      "English sentence:\n",
      "your least liked fruit is the grape but my least liked is the apple _ _ _ _ _ _ _\n",
      "French translation:\n",
      "votre moins moins aimé est le le mais mon moins _ est _ _ _ _ _ _ _ _ _\n",
      "-----------------\n",
      "English sentence:\n",
      "his favorite fruit is the orange but my favorite is the grape _ _ _ _ _ _ _ _ _\n",
      "French translation:\n",
      "son fruit est est le est mais mon _ est _ le _ _ _ _ _ _ _ _ _\n",
      "-----------------\n",
      "English sentence:\n",
      "paris is relaxing during december but it is usually chilly in july _ _ _ _ _ _ _ _ _\n",
      "French translation:\n",
      "du est est relaxant en mais mais est est est raisins _ _ _ _ _ _ _ _ _ _\n",
      "-----------------\n",
      "English sentence:\n",
      "new jersey is busy during spring and it is never hot in march _ _ _ _ _ _ _ _\n",
      "French translation:\n",
      "new jersey est jamais au printemps il il est est est raisins _ _ _ _ _ _ _ _ _\n",
      "-----------------\n",
      "English sentence:\n",
      "our least liked fruit is the lemon but my least liked is the grape _ _ _ _ _ _ _\n",
      "French translation:\n",
      "préféré fruit moins aimé est le est mais mon moins _ est _ le _ _ _ _ _ _ _\n",
      "-----------------\n",
      "English sentence:\n",
      "the united states is sometimes busy during january and it is sometimes warm in november _ _ _ _ _ _\n",
      "French translation:\n",
      "les gelés dernier est parfois jamais en en il il est parfois parfois _ _ _ _ _ _ _ _\n",
      "-----------------\n",
      "English sentence:\n",
      "the lime is her least liked fruit but the banana is my least liked _ _ _ _ _ _ _\n",
      "French translation:\n",
      "la chaux est est moins moins aimé mais la la est aimé _ _ _ _ _ _ _ _ _\n",
      "-----------------\n",
      "English sentence:\n",
      "he saw a old yellow truck _ _ _ _ _ _ _ _ _ _ _ _ _ _ _\n",
      "French translation:\n",
      "il a vieux vieille vieille _ _ _ _ _ _ _ _ _ _ _ _ _ _ _ _\n",
      "-----------------\n",
      "English sentence:\n",
      "india is rainy during june and it is sometimes warm in november _ _ _ _ _ _ _ _ _\n",
      "French translation:\n",
      "l' est est en il il il est est est raisins _ _ _ _ _ _ _ _ _ _\n",
      "-----------------\n",
      "English sentence:\n",
      "that cat was my most loved animal _ _ _ _ _ _ _ _ _ _ _ _ _ _\n",
      "French translation:\n",
      "animal animal était mon fruit raisins raisins _ _ _ _ _ _ _ _ _ _ _ _ _ _\n",
      "-----------------\n",
      "English sentence:\n",
      "he dislikes grapefruit limes and lemons _ _ _ _ _ _ _ _ _ _ _ _ _ _ _\n",
      "French translation:\n",
      "il aime les les les les les _ _ _ _ _ _ _ _ _ _ _ _ _ _\n",
      "-----------------\n",
      "English sentence:\n",
      "her least liked fruit is the lemon but his least liked is the grapefruit _ _ _ _ _ _ _\n",
      "French translation:\n",
      "est fruit moins aimé est le citron mais son moins _ est _ _ _ _ _ _ _ _ _\n",
      "-----------------\n",
      "English sentence:\n",
      "california is never cold during february but it is sometimes freezing in june _ _ _ _ _ _ _ _\n",
      "French translation:\n",
      "californie est est froid froid froid mais mais est il il en _ _ _ _ _ _ _ _ _\n",
      "-----------------\n",
      "English sentence:\n",
      "china is usually pleasant during autumn and it is usually quiet in october _ _ _ _ _ _ _ _\n",
      "French translation:\n",
      "chine est est est en pendant il il est est raisins raisins en _ _ _ _ _ _ _ _\n",
      "-----------------\n",
      "English sentence:\n",
      "paris is never freezing during november but it is wonderful in october _ _ _ _ _ _ _ _ _\n",
      "French translation:\n",
      "des est est jamais en mais mais mais est jamais raisins _ _ _ _ _ _ _ _ _ _\n",
      "-----------------\n",
      "English sentence:\n",
      "the united states is never rainy during january but it is sometimes mild in october _ _ _ _ _ _\n",
      "French translation:\n",
      "les gelés temps est est est pluvieux en mais mais est il doux raisins _ _ _ _ _ _ _\n",
      "-----------------\n"
     ]
    }
   ],
   "source": [
    "# Print prediction(s) (One at a time slows things, but that's ok.)\n",
    "for i in range(20):\n",
    "    print(\"English sentence:\")\n",
    "    print(logits_to_text(one_hot_tmp_x[i], english_tokenizer))\n",
    "    pred_logits = bd_rnn_model.predict(one_hot_tmp_x[i:i + 1])[0]\n",
    "    print(\"French translation:\")\n",
    "    print(logits_to_text(pred_logits, french_tokenizer))\n",
    "    print(\"-----------------\")"
   ]
  },
  {
   "cell_type": "markdown",
   "metadata": {},
   "source": [
    "### Model 4: Encoder-Decoder (OPTIONAL)\n",
    "Time to look at encoder-decoder models.  This model is made up of an encoder and decoder. The encoder creates a matrix representation of the sentence.  The decoder takes this matrix as input and predicts the translation as output.\n",
    "\n",
    "Create an encoder-decoder model in the cell below."
   ]
  },
  {
   "cell_type": "code",
   "execution_count": null,
   "metadata": {},
   "outputs": [],
   "source": [
    "def encdec_model(input_shape, output_sequence_length, english_vocab_size, french_vocab_size):\n",
    "    \"\"\"\n",
    "    Build and train an encoder-decoder model on x and y\n",
    "    :param input_shape: Tuple of input shape\n",
    "    :param output_sequence_length: Length of output sequence\n",
    "    :param english_vocab_size: Number of unique English words in the dataset\n",
    "    :param french_vocab_size: Number of unique French words in the dataset\n",
    "    :return: Keras model built, but not trained\n",
    "    \"\"\"\n",
    "    # OPTIONAL: Implement\n",
    "    return None\n",
    "tests.test_encdec_model(encdec_model)\n",
    "\n",
    "\n",
    "# OPTIONAL: Train and Print prediction(s)"
   ]
  },
  {
   "cell_type": "markdown",
   "metadata": {},
   "source": [
    "### Model 5: Custom (IMPLEMENTATION)\n",
    "Use everything you learned from the previous models to create a model that incorporates embedding and a bidirectional rnn into one model."
   ]
  },
  {
   "cell_type": "code",
   "execution_count": null,
   "metadata": {},
   "outputs": [],
   "source": [
    "def model_final(input_shape, output_sequence_length, english_vocab_size, french_vocab_size):\n",
    "    \"\"\"\n",
    "    Build and train a model that incorporates embedding, encoder-decoder, and bidirectional RNN on x and y\n",
    "    :param input_shape: Tuple of input shape\n",
    "    :param output_sequence_length: Length of output sequence\n",
    "    :param english_vocab_size: Number of unique English words in the dataset\n",
    "    :param french_vocab_size: Number of unique French words in the dataset\n",
    "    :return: Keras model built, but not trained\n",
    "    \"\"\"\n",
    "    # TODO: Implement\n",
    "    return None\n",
    "tests.test_model_final(model_final)\n",
    "\n",
    "\n",
    "print('Final Model Loaded')\n",
    "# TODO: Train the final model"
   ]
  },
  {
   "cell_type": "markdown",
   "metadata": {},
   "source": [
    "## Prediction (IMPLEMENTATION)"
   ]
  },
  {
   "cell_type": "code",
   "execution_count": null,
   "metadata": {},
   "outputs": [],
   "source": [
    "def final_predictions(x, y, x_tk, y_tk):\n",
    "    \"\"\"\n",
    "    Gets predictions using the final model\n",
    "    :param x: Preprocessed English data\n",
    "    :param y: Preprocessed French data\n",
    "    :param x_tk: English tokenizer\n",
    "    :param y_tk: French tokenizer\n",
    "    \"\"\"\n",
    "    # TODO: Train neural network using model_final\n",
    "    model = None\n",
    "\n",
    "    \n",
    "    ## DON'T EDIT ANYTHING BELOW THIS LINE\n",
    "    y_id_to_word = {value: key for key, value in y_tk.word_index.items()}\n",
    "    y_id_to_word[0] = '<PAD>'\n",
    "\n",
    "    sentence = 'he saw a old yellow truck'\n",
    "    sentence = [x_tk.word_index[word] for word in sentence.split()]\n",
    "    sentence = pad_sequences([sentence], maxlen=x.shape[-1], padding='post')\n",
    "    sentences = np.array([sentence[0], x[0]])\n",
    "    predictions = model.predict(sentences, len(sentences))\n",
    "\n",
    "    print('Sample 1:')\n",
    "    print(' '.join([y_id_to_word[np.argmax(x)] for x in predictions[0]]))\n",
    "    print('Il a vu un vieux camion jaune')\n",
    "    print('Sample 2:')\n",
    "    print(' '.join([y_id_to_word[np.argmax(x)] for x in predictions[1]]))\n",
    "    print(' '.join([y_id_to_word[np.max(x)] for x in y[0]]))\n",
    "\n",
    "\n",
    "final_predictions(preproc_english_sentences, preproc_french_sentences, english_tokenizer, french_tokenizer)"
   ]
  },
  {
   "cell_type": "markdown",
   "metadata": {},
   "source": [
    "## Submission\n",
    "When you're ready to submit, complete the following steps:\n",
    "1. Review the [rubric](https://review.udacity.com/#!/rubrics/1004/view) to ensure your submission meets all requirements to pass\n",
    "2. Generate an HTML version of this notebook\n",
    "\n",
    "  - Run the next cell to attempt automatic generation (this is the recommended method in Workspaces)\n",
    "  - Navigate to **FILE -> Download as -> HTML (.html)**\n",
    "  - Manually generate a copy using `nbconvert` from your shell terminal\n",
    "```\n",
    "$ pip install nbconvert\n",
    "$ python -m nbconvert machine_translation.ipynb\n",
    "```\n",
    "  \n",
    "3. Submit the project\n",
    "\n",
    "  - If you are in a Workspace, simply click the \"Submit Project\" button (bottom towards the right)\n",
    "  \n",
    "  - Otherwise, add the following files into a zip archive and submit them \n",
    "  - `helper.py`\n",
    "  - `machine_translation.ipynb`\n",
    "  - `machine_translation.html`\n",
    "    - You can export the notebook by navigating to **File -> Download as -> HTML (.html)**."
   ]
  },
  {
   "cell_type": "code",
   "execution_count": null,
   "metadata": {},
   "outputs": [],
   "source": [
    "!!python -m nbconvert *.ipynb"
   ]
  },
  {
   "cell_type": "markdown",
   "metadata": {},
   "source": [
    "## Optional Enhancements\n",
    "\n",
    "This project focuses on learning various network architectures for machine translation, but we don't evaluate the models according to best practices by splitting the data into separate test & training sets -- so the model accuracy is overstated. Use the [`sklearn.model_selection.train_test_split()`](http://scikit-learn.org/stable/modules/generated/sklearn.model_selection.train_test_split.html) function to create separate training & test datasets, then retrain each of the models using only the training set and evaluate the prediction accuracy using the hold out test set. Does the \"best\" model change?"
   ]
  }
 ],
 "metadata": {
  "kernelspec": {
   "display_name": "Python 3",
   "language": "python",
   "name": "python3"
  },
  "language_info": {
   "codemirror_mode": {
    "name": "ipython",
    "version": 3
   },
   "file_extension": ".py",
   "mimetype": "text/x-python",
   "name": "python",
   "nbconvert_exporter": "python",
   "pygments_lexer": "ipython3",
   "version": "3.5.5"
  }
 },
 "nbformat": 4,
 "nbformat_minor": 1
}
